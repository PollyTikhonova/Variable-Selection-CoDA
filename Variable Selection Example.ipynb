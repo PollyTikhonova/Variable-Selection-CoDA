{
 "cells": [
  {
   "cell_type": "markdown",
   "metadata": {},
   "source": [
    "### Variable Selection Example"
   ]
  },
  {
   "cell_type": "code",
   "execution_count": 4,
   "metadata": {},
   "outputs": [],
   "source": [
    "import pandas as pd\n",
    "import numpy as np"
   ]
  },
  {
   "cell_type": "code",
   "execution_count": 5,
   "metadata": {},
   "outputs": [],
   "source": [
    "import matplotlib.pyplot as plt\n",
    "%matplotlib inline"
   ]
  },
  {
   "cell_type": "code",
   "execution_count": 7,
   "metadata": {},
   "outputs": [],
   "source": [
    "import os, sys\n",
    "sys.path.append(\"~/library\")\n",
    "import varsel\n",
    "from varsel import *"
   ]
  },
  {
   "cell_type": "code",
   "execution_count": 9,
   "metadata": {},
   "outputs": [
    {
     "name": "stdout",
     "output_type": "stream",
     "text": [
      "(768, 11)\n"
     ]
    },
    {
     "data": {
      "text/html": [
       "<div>\n",
       "<style scoped>\n",
       "    .dataframe tbody tr th:only-of-type {\n",
       "        vertical-align: middle;\n",
       "    }\n",
       "\n",
       "    .dataframe tbody tr th {\n",
       "        vertical-align: top;\n",
       "    }\n",
       "\n",
       "    .dataframe thead th {\n",
       "        text-align: right;\n",
       "    }\n",
       "</style>\n",
       "<table border=\"1\" class=\"dataframe\">\n",
       "  <thead>\n",
       "    <tr style=\"text-align: right;\">\n",
       "      <th></th>\n",
       "      <th>Al2O3_T</th>\n",
       "      <th>Fe2O3_T</th>\n",
       "      <th>K2O_T</th>\n",
       "      <th>MgO_T</th>\n",
       "      <th>MnO_T</th>\n",
       "      <th>CaO_T</th>\n",
       "      <th>TiO2_T</th>\n",
       "      <th>Na2O_T</th>\n",
       "      <th>P2O5_T</th>\n",
       "      <th>SiO2_T</th>\n",
       "      <th>LOI_T</th>\n",
       "    </tr>\n",
       "  </thead>\n",
       "  <tbody>\n",
       "    <tr>\n",
       "      <th>0</th>\n",
       "      <td>13.07</td>\n",
       "      <td>12.25</td>\n",
       "      <td>2.01</td>\n",
       "      <td>3.22</td>\n",
       "      <td>0.167</td>\n",
       "      <td>2.48</td>\n",
       "      <td>1.290</td>\n",
       "      <td>1.14</td>\n",
       "      <td>0.481</td>\n",
       "      <td>43.61</td>\n",
       "      <td>19.86</td>\n",
       "    </tr>\n",
       "    <tr>\n",
       "      <th>1</th>\n",
       "      <td>14.78</td>\n",
       "      <td>6.48</td>\n",
       "      <td>1.78</td>\n",
       "      <td>2.47</td>\n",
       "      <td>0.105</td>\n",
       "      <td>3.08</td>\n",
       "      <td>0.913</td>\n",
       "      <td>2.19</td>\n",
       "      <td>0.298</td>\n",
       "      <td>58.73</td>\n",
       "      <td>8.81</td>\n",
       "    </tr>\n",
       "    <tr>\n",
       "      <th>2</th>\n",
       "      <td>11.89</td>\n",
       "      <td>5.70</td>\n",
       "      <td>1.16</td>\n",
       "      <td>2.44</td>\n",
       "      <td>0.126</td>\n",
       "      <td>3.17</td>\n",
       "      <td>0.902</td>\n",
       "      <td>2.13</td>\n",
       "      <td>0.408</td>\n",
       "      <td>58.14</td>\n",
       "      <td>13.44</td>\n",
       "    </tr>\n",
       "    <tr>\n",
       "      <th>3</th>\n",
       "      <td>10.00</td>\n",
       "      <td>4.08</td>\n",
       "      <td>1.82</td>\n",
       "      <td>1.00</td>\n",
       "      <td>0.052</td>\n",
       "      <td>1.37</td>\n",
       "      <td>0.524</td>\n",
       "      <td>1.60</td>\n",
       "      <td>0.395</td>\n",
       "      <td>43.98</td>\n",
       "      <td>34.90</td>\n",
       "    </tr>\n",
       "    <tr>\n",
       "      <th>4</th>\n",
       "      <td>13.20</td>\n",
       "      <td>6.37</td>\n",
       "      <td>1.35</td>\n",
       "      <td>2.59</td>\n",
       "      <td>0.079</td>\n",
       "      <td>3.13</td>\n",
       "      <td>0.702</td>\n",
       "      <td>2.97</td>\n",
       "      <td>0.139</td>\n",
       "      <td>60.90</td>\n",
       "      <td>8.23</td>\n",
       "    </tr>\n",
       "  </tbody>\n",
       "</table>\n",
       "</div>"
      ],
      "text/plain": [
       "   Al2O3_T  Fe2O3_T  K2O_T  MgO_T  MnO_T  CaO_T  TiO2_T  Na2O_T  P2O5_T  \\\n",
       "0    13.07    12.25   2.01   3.22  0.167   2.48   1.290    1.14   0.481   \n",
       "1    14.78     6.48   1.78   2.47  0.105   3.08   0.913    2.19   0.298   \n",
       "2    11.89     5.70   1.16   2.44  0.126   3.17   0.902    2.13   0.408   \n",
       "3    10.00     4.08   1.82   1.00  0.052   1.37   0.524    1.60   0.395   \n",
       "4    13.20     6.37   1.35   2.59  0.079   3.13   0.702    2.97   0.139   \n",
       "\n",
       "   SiO2_T  LOI_T  \n",
       "0   43.61  19.86  \n",
       "1   58.73   8.81  \n",
       "2   58.14  13.44  \n",
       "3   43.98  34.90  \n",
       "4   60.90   8.23  "
      ]
     },
     "execution_count": 9,
     "metadata": {},
     "output_type": "execute_result"
    }
   ],
   "source": [
    "df = pd.read_csv('../dataset.csv')\n",
    "print(df.shape)\n",
    "df.head()"
   ]
  },
  {
   "cell_type": "code",
   "execution_count": null,
   "metadata": {},
   "outputs": [],
   "source": [
    "selected = feature_selection(df, .05, 1, 1, 1, 1, 1)\n",
    "df_, columns, seq_, varis, columnsls_que = selected "
   ]
  },
  {
   "cell_type": "code",
   "execution_count": 72,
   "metadata": {},
   "outputs": [
    {
     "data": {
      "image/png": "[encoded data removed]",
      "text/plain": [
       "<matplotlib.figure.Figure at 0x7f633720d748>"
      ]
     },
     "metadata": {},
     "output_type": "display_data"
    }
   ],
   "source": [
    "plt.figure(figsize=(15, 5))\n",
    "plt.plot(range(len(varis)), varis)\n",
    "plt.axvline(seq_, color='red');"
   ]
  },
  {
   "cell_type": "code",
   "execution_count": null,
   "metadata": {},
   "outputs": [],
   "source": []
  }
 ],
 "metadata": {
  "anaconda-cloud": {},
  "kernelspec": {
   "display_name": "Python [default]",
   "language": "python",
   "name": "python3"
  },
  "language_info": {
   "codemirror_mode": {
    "name": "ipython",
    "version": 3
   },
   "file_extension": ".py",
   "mimetype": "text/x-python",
   "name": "python",
   "nbconvert_exporter": "python",
   "pygments_lexer": "ipython3",
   "version": "3.7.1"
  },
  "varInspector": {
   "cols": {
    "lenName": 16,
    "lenType": 16,
    "lenVar": 40
   },
   "kernels_config": {
    "python": {
     "delete_cmd_postfix": "",
     "delete_cmd_prefix": "del ",
     "library": "var_list.py",
     "varRefreshCmd": "print(var_dic_list())"
    },
    "r": {
     "delete_cmd_postfix": ") ",
     "delete_cmd_prefix": "rm(",
     "library": "var_list.r",
     "varRefreshCmd": "cat(var_dic_list()) "
    }
   },
   "types_to_exclude": [
    "module",
    "function",
    "builtin_function_or_method",
    "instance",
    "_Feature"
   ],
   "window_display": false
  }
 },
 "nbformat": 4,
 "nbformat_minor": 2
}
